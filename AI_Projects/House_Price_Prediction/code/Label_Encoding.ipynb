{
 "cells": [
  {
   "cell_type": "code",
   "execution_count": 4,
   "metadata": {},
   "outputs": [
    {
     "name": "stderr",
     "output_type": "stream",
     "text": [
      "/tmp/ipykernel_650446/2954954693.py:8: DtypeWarning: Columns (16,17,36) have mixed types. Specify dtype option on import or set low_memory=False.\n",
      "  dt_train = pd.read_csv(train_path)\n"
     ]
    },
    {
     "name": "stdout",
     "output_type": "stream",
     "text": [
      "8943\n"
     ]
    }
   ],
   "source": [
    "import pandas as pd\n",
    "from sklearn.preprocessing import LabelEncoder\n",
    "\n",
    "train_path = '/data/ephemeral/home/train.csv' \n",
    "test_path  = '/data/ephemeral/home/AI_Portfolio/AI_Projects/' \\\n",
    "                'House_Price_Prediction/competition/data/test.csv'\n",
    "                \n",
    "dt_train = pd.read_csv(train_path)\n",
    "dt_test = pd.read_csv(test_path)\n",
    "\n",
    "dt_train['full_addr'] = dt_train['시군구'] + dt_train['번지'].fillna('')\n",
    "dt_test['full_addr'] = dt_test['시군구'] + dt_test['번지'].fillna('')\n",
    "\n",
    "dt_train['full_addr_encoded'] = LabelEncoder().fit_transform(dt_train['full_addr'])\n",
    "dt_test['full_addr_encoded'] = LabelEncoder().fit_transform(dt_test['full_addr'])\n",
    "\n",
    "dt_train = dt_train.drop(columns=['full_addr'])\n",
    "dt_test = dt_test.drop(columns=['full_addr'])\n",
    "\n",
    "print(len(dt_train['full_addr_encoded'].unique()))"
   ]
  }
 ],
 "metadata": {
  "kernelspec": {
   "display_name": "base",
   "language": "python",
   "name": "python3"
  },
  "language_info": {
   "codemirror_mode": {
    "name": "ipython",
    "version": 3
   },
   "file_extension": ".py",
   "mimetype": "text/x-python",
   "name": "python",
   "nbconvert_exporter": "python",
   "pygments_lexer": "ipython3",
   "version": "3.10.13"
  }
 },
 "nbformat": 4,
 "nbformat_minor": 2
}
