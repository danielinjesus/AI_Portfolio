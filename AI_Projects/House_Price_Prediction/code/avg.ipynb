{
 "cells": [
  {
   "cell_type": "code",
   "execution_count": 3,
   "metadata": {},
   "outputs": [
    {
     "name": "stderr",
     "output_type": "stream",
     "text": [
      "/tmp/ipykernel_711555/3907961704.py:2: DtypeWarning: Columns (16,17,36) have mixed types. Specify dtype option on import or set low_memory=False.\n",
      "  dt_train = pd.read_csv('/data/ephemeral/home/train.csv')\n"
     ]
    },
    {
     "name": "stdout",
     "output_type": "stream",
     "text": [
      "77.17474717139989\n",
      "75.41450638481449\n"
     ]
    }
   ],
   "source": [
    "import pandas as pd\n",
    "dt_train = pd.read_csv('/data/ephemeral/home/train.csv')\n",
    "dt_test = pd.read_csv('/data/ephemeral/home/AI_Portfolio/Python/data/test.csv')\n",
    "dt_train.columns\n",
    "print(dt_train['전용면적(㎡)'].mean())\n",
    "print(dt_test['전용면적(㎡)'].mean())"
   ]
  }
 ],
 "metadata": {
  "kernelspec": {
   "display_name": "base",
   "language": "python",
   "name": "python3"
  },
  "language_info": {
   "codemirror_mode": {
    "name": "ipython",
    "version": 3
   },
   "file_extension": ".py",
   "mimetype": "text/x-python",
   "name": "python",
   "nbconvert_exporter": "python",
   "pygments_lexer": "ipython3",
   "version": "3.10.13"
  }
 },
 "nbformat": 4,
 "nbformat_minor": 2
}
