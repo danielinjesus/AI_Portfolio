{
 "cells": [
  {
   "cell_type": "code",
   "execution_count": null,
   "metadata": {},
   "outputs": [],
   "source": [
    "import pandas as pd\n",
    "\n",
    "# 예제 데이터프레임\n",
    "df = pd.DataFrame({\"col1\": [\"a\", \"a \", \" a\", \"a\"]})\n",
    "\n",
    "# \"a\"와 같은지 비교\n",
    "print(df[\"col1\"] == \"a\")\n"
   ]
  },
  {
   "cell_type": "code",
   "execution_count": null,
   "metadata": {},
   "outputs": [],
   "source": [
    "import pandas as pd\n",
    "display(dt_test['등기신청일자'].value_counts())"
   ]
  },
  {
   "cell_type": "code",
   "execution_count": null,
   "metadata": {},
   "outputs": [],
   "source": [
    "import pandas as pd\n",
    "dt_test = pd.read_csv('/data/ephemeral/home/train.csv')\n",
    "dt_test.info()"
   ]
  },
  {
   "cell_type": "code",
   "execution_count": null,
   "metadata": {},
   "outputs": [],
   "source": [
    "# 공백이 있는 갯수\n",
    "import pandas as pd\n",
    "dt_test = pd.read_csv('/data/ephemeral/home/train.csv')\n",
    "dt_blank = dt_test[dt_test['도로명'] == ' ']\n",
    "display(dt_blank['도로명'])"
   ]
  },
  {
   "cell_type": "code",
   "execution_count": null,
   "metadata": {},
   "outputs": [],
   "source": [
    "import pandas as pd\n",
    "dt_test = pd.read_csv('/data/ephemeral/home/train.csv')\n",
    "dt_test['계약년월'].value_counts().sort_index()\n",
    "dt_test['계약년월'] = dt_test['계약년월'].astype(str)\n",
    "dt_test_vali = dt_test[dt_test['계약년월'].isin(['202304', '202305', '202306']) ]\n",
    "dt_test_train = dt_test[~dt_test['계약년월'].isin(['202304', '202305', '202306']) ]\n",
    "print(dt_test_train['계약년월'].value_counts().sort_index())\n",
    "# len(dt_test['계약년월']==2023)"
   ]
  },
  {
   "cell_type": "code",
   "execution_count": null,
   "metadata": {},
   "outputs": [],
   "source": [
    "import pandas as pd\n",
    "dt_test = pd.read_csv('/data/ephemeral/home/train.csv')\n",
    "dt_test.info()"
   ]
  },
  {
   "cell_type": "code",
   "execution_count": null,
   "metadata": {},
   "outputs": [],
   "source": [
    "import pandas as pd\n",
    "dt_test = pd.read_csv('/data/ephemeral/home/train.csv')\n",
    "dt_test['full_addr'] = dt_test['시군구'] + dt_test['번지'].fillna('')\n",
    "print(len(dt_test[ dt_test['full_addr'].isna()]))\n",
    "# print(dt_test['full_addr'].info())\n",
    "# # # print(dt_test['full_addr'].unique())\n",
    "# print(set(dt_test_comb))\n",
    "\n",
    "# dt_test_comb_6 = dt[ dt_test['full_addr'] \n"
   ]
  },
  {
   "cell_type": "code",
   "execution_count": 71,
   "metadata": {},
   "outputs": [
    {
     "name": "stdout",
     "output_type": "stream",
     "text": [
      "9272\n",
      "서울특별시 송파구 가락동913         65\n",
      "서울특별시 강북구 번동443-6        60\n",
      "서울특별시 강북구 미아동1353        52\n",
      "서울특별시 송파구 신천동17          50\n",
      "서울특별시 강동구 고덕동693         49\n",
      "                         ..\n",
      "서울특별시 서대문구 홍은동265-296     1\n",
      "서울특별시 서대문구 홍은동265-293     1\n",
      "서울특별시 서대문구 홍은동465         1\n",
      "서울특별시 서대문구 충정로3가466       1\n",
      "서울특별시 강남구 개포동658-1        1\n",
      "Name: full_addr, Length: 2588, dtype: int64\n"
     ]
    }
   ],
   "source": [
    "import pandas as pd\n",
    "dt_test = pd.read_csv('/data/ephemeral/home/AI_Portfolio/Python/data/test.csv')\n",
    "dt_test['full_addr'] = dt_test['시군구'] + dt_test['번지'].fillna('')\n",
    "print(dt_test['full_addr'].value_counts().sum())\n",
    "print(dt_test['full_addr'].value_counts())"
   ]
  },
  {
   "cell_type": "code",
   "execution_count": 68,
   "metadata": {},
   "outputs": [
    {
     "name": "stderr",
     "output_type": "stream",
     "text": [
      "/tmp/ipykernel_635721/421439868.py:2: DtypeWarning: Columns (16,17,36) have mixed types. Specify dtype option on import or set low_memory=False.\n",
      "  dt_test = pd.read_csv('/data/ephemeral/home/train.csv')\n"
     ]
    },
    {
     "name": "stdout",
     "output_type": "stream",
     "text": [
      "서울특별시 송파구 신천동17        4322\n",
      "서울특별시 강북구 미아동1353      3997\n",
      "서울특별시 동작구 사당동105       3585\n",
      "서울특별시 성북구 돈암동609-1     3487\n",
      "서울특별시 노원구 중계동502-1     3316\n",
      "                       ... \n",
      "서울특별시 양천구 목동777-20        1\n",
      "서울특별시 종로구 창신동638-36       1\n",
      "서울특별시 강서구 화곡동938-23       1\n",
      "서울특별시 서초구 잠원동8-27         1\n",
      "서울특별시 용산구 한강로2가196        1\n",
      "Name: full_addr, Length: 8941, dtype: int64\n",
      "서울특별시 은평구 응암동402-42     10\n",
      "서울특별시 광진구 중곡동238-6      10\n",
      "서울특별시 은평구 응암동81-164     10\n",
      "서울특별시 종로구 창신동640-252    10\n",
      "서울특별시 구로구 개봉동304-16     10\n",
      "                        ..\n",
      "서울특별시 양천구 목동777-20       1\n",
      "서울특별시 종로구 창신동638-36      1\n",
      "서울특별시 강서구 화곡동938-23      1\n",
      "서울특별시 서초구 잠원동8-27        1\n",
      "서울특별시 용산구 한강로2가196       1\n",
      "Name: full_addr, Length: 1980, dtype: int64\n"
     ]
    }
   ],
   "source": [
    "import pandas as pd\n",
    "dt_test = pd.read_csv('/data/ephemeral/home/train.csv')\n",
    "\n",
    "# 시군구와 번지를 결합하여 전체 주소 생성\n",
    "dt_test['full_addr'] = dt_test['시군구'] + dt_test['번지']\n",
    "\n",
    "# 빈도가 5 초과인 주소만 필터링\n",
    "addresses = dt_test['full_addr'].value_counts()\n",
    "print(addresses)\n",
    "addresses_2 = addresses[addresses < 11]\n",
    "print(addresses_2)\n",
    "# addresses_to_keep = addresses[addresses < 15].index  # 빈도가 5 초과인 주소 목록\n",
    "\n",
    "# # 해당 주소만 포함된 데이터프레임 생성\n",
    "# filtered_dt_test = dt_test[dt_test['full_addr'].isin(addresses_to_keep)]\n",
    "\n",
    "# print(len(filtered_dt_test))\n"
   ]
  },
  {
   "cell_type": "code",
   "execution_count": null,
   "metadata": {},
   "outputs": [],
   "source": [
    "import pandas as pd\n",
    "import numpy as np\n",
    "dt_test = pd.read_csv('/data/ephemeral/home/train.csv')\n",
    "dt_test['시군구'] = dt_test['시군구'].apply(lambda x: np.nan if isinstance(x, str) and x.strip() == \"\" else x)\n",
    "\n",
    "print(dt_test['시군구'].isnull().sum())\n",
    "dt_blank = dt_test[dt_test['시군구'] == ' ']\n",
    "display(set(dt_blank['시군구']))"
   ]
  },
  {
   "cell_type": "code",
   "execution_count": null,
   "metadata": {},
   "outputs": [],
   "source": [
    "import pandas as pd\n",
    "import numpy as np\n",
    "dt_test = pd.read_csv('/data/ephemeral/home/train.csv')\n",
    "dt_test['번지'] = dt_test['번지'].apply(lambda x: np.nan if isinstance(x, str) and x.strip() == \"\" else x)\n",
    "\n",
    "print(dt_test['번지'].isnull().sum())\n",
    "dt_blank = dt_test[dt_test['번지'] == ' ']\n",
    "display(set(dt_blank['번지']))"
   ]
  },
  {
   "cell_type": "code",
   "execution_count": null,
   "metadata": {},
   "outputs": [],
   "source": [
    "import pandas as pd\n",
    "import numpy as np\n",
    "dt_test = pd.read_csv('/data/ephemeral/home/train.csv')\n",
    "dt_test['도로명'].shape\n",
    "dt_test['도로명'].info()\n",
    "print(len(dt_test['도로명'].unique()))\n",
    "# print(1, dt_test['도로명'].isnull().sum())\n",
    "# dt_test['도로명'] = dt_test['도로명'].apply(lambda x: np.nan if isinstance(x, str) and x.strip() == \"\" else x)\n",
    "# print(2, dt_test['도로명'].isnull().sum())\n",
    "# dt_test['도로명'].shape"
   ]
  },
  {
   "cell_type": "code",
   "execution_count": null,
   "metadata": {},
   "outputs": [],
   "source": [
    "import pandas as pd\n",
    "import numpy as np\n",
    "\n",
    "# dt_blank = dt_test[dt_test['도로명'] == ' ']\n",
    "# display(dt_blank['도로명'])\n",
    "\n",
    "# # print(dt_test['도로명'].isnull().sum())\n",
    "\n",
    "nullcnt = dt_test.isnull().sum()\n",
    "notnullcnt = dt_test.notnull().sum()\n",
    "full_number = pd.concat([nullcnt + notnullcnt], axis=0)\n",
    "result_dt = pd.DataFrame({\n",
    "    'null_count': nullcnt,\n",
    "    'notnull_count': notnullcnt,\n",
    "    'full_number' : full_number })\n",
    "display(result_dt)\n",
    "# display(dt_test['층'].value_counts())"
   ]
  },
  {
   "cell_type": "code",
   "execution_count": null,
   "metadata": {},
   "outputs": [],
   "source": [
    "import pandas as pd\n",
    "dt_test = pd.read_csv('/data/ephemeral/home/train.csv')\n",
    "nullcnt = dt_test.isnull().sum()\n",
    "notnullcnt = dt_test.notnull().sum()\n",
    "full_number = pd.concat([nullcnt + notnullcnt], axis=0)\n",
    "result_dt = pd.DataFrame({\n",
    "    'null_count': nullcnt,\n",
    "    'notnull_count': notnullcnt,\n",
    "    'full_number' : full_number })\n",
    "display(result_dt)\n",
    "# display(dt_test['층'].value_counts())"
   ]
  },
  {
   "cell_type": "code",
   "execution_count": null,
   "metadata": {},
   "outputs": [],
   "source": []
  },
  {
   "cell_type": "code",
   "execution_count": null,
   "metadata": {},
   "outputs": [],
   "source": [
    "import pandas as pd\n",
    "dt_train = pd.read_csv('/data/ephemeral/home/train.csv')\n",
    "# nullcnt = dt_train.isnull().sum()\n",
    "# notnullcnt = dt_train.notnull().sum()\n",
    "# full_number = pd.concat([nullcnt + notnullcnt], axis=0)\n",
    "# result_dt = pd.DataFrame({\n",
    "#     'null_count': nullcnt,\n",
    "#     'notnull_count': notnullcnt,\n",
    "#     'full_number' : full_number })\n",
    "# # display(result_dt)\n",
    "display(dt_train['도로명'].value_counts())\n",
    "display(dt_train['아파트명'].value_counts())\n",
    "print(f\"도로명 : {len(dt_train['도로명'].unique())}\")\n",
    "print(f\"아파트명 : {len(dt_train['아파트명'].unique())}\")\n",
    "print(f\"번지 : {len(dt_train['번지'].unique())}\")\n",
    "print(f\"시군구 : {len(dt_train['시군구'].unique())}\")\n",
    "dt_train['주소'] = dt_train['시군구'] + dt_train['번지']\n",
    "print(f\"주소 : {len(dt_train['주소'].unique())}\")"
   ]
  },
  {
   "cell_type": "code",
   "execution_count": null,
   "metadata": {},
   "outputs": [],
   "source": [
    "import pandas as pd\n",
    "\n",
    "# 데이터 불러오기\n",
    "dt_test = pd.read_csv('/data/ephemeral/home/train.csv')\n",
    "\n",
    "# 번지 기준으로 그룹화한 후 시군구의 고유값 개수를 세어, 2개 이상의 시군구가 있는 번지를 찾기\n",
    "duplicate_bunji_across_sigu = dt_test.groupby('번지')['시군구'].nunique()\n",
    "duplicates = duplicate_bunji_across_sigu[duplicate_bunji_across_sigu > 1]\n",
    "\n",
    "# 결과 출력\n",
    "print(\"다른 시군구에서 동일한 번지를 가진 경우:\")\n",
    "print(duplicates)\n"
   ]
  },
  {
   "cell_type": "code",
   "execution_count": null,
   "metadata": {},
   "outputs": [],
   "source": [
    "import pandas as pd\n",
    "df_train = pd.read_csv('/data/ephemeral/home/train.csv')\n",
    "display([df_train['도로명'] == ' '])"
   ]
  },
  {
   "cell_type": "code",
   "execution_count": null,
   "metadata": {},
   "outputs": [],
   "source": [
    "df_train['full_address'] = df_train['시군구'] + df_train['도로명']\n",
    "print(df_train['full_address'])"
   ]
  },
  {
   "cell_type": "code",
   "execution_count": null,
   "metadata": {},
   "outputs": [],
   "source": [
    "# display(df[df['번지'].isnull()])\n",
    "df_train['full_address'] = dt_train['시군구'] + df_train['도로명']\n",
    "df_address_needed = df_train[df_train['좌표X'].isnull()][['도로명']]\n",
    "df_address_needed_index = dt_address_needed.index\n",
    "display(df_address_needed)\n",
    "display(dt_address_needed_index)"
   ]
  },
  {
   "cell_type": "code",
   "execution_count": null,
   "metadata": {},
   "outputs": [],
   "source": [
    "# 앞서 예측한 예측값들을 저장합니다.\n",
    "# fill_needed = pd.DataFrame(dt_address_needed)\n",
    "# fill_needed.to_csv('null-x.csv')"
   ]
  }
 ],
 "metadata": {
  "kernelspec": {
   "display_name": "base",
   "language": "python",
   "name": "python3"
  },
  "language_info": {
   "codemirror_mode": {
    "name": "ipython",
    "version": 3
   },
   "file_extension": ".py",
   "mimetype": "text/x-python",
   "name": "python",
   "nbconvert_exporter": "python",
   "pygments_lexer": "ipython3",
   "version": "3.10.13"
  }
 },
 "nbformat": 4,
 "nbformat_minor": 2
}
