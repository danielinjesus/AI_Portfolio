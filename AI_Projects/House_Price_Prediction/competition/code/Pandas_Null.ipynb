{
 "cells": [
  {
   "cell_type": "code",
   "execution_count": null,
   "metadata": {},
   "outputs": [
    {
     "name": "stderr",
     "output_type": "stream",
     "text": [
      "/tmp/ipykernel_501264/2712697157.py:2: DtypeWarning: Columns (16,17,36) have mixed types. Specify dtype option on import or set low_memory=False.\n",
      "  df_test = pd.read_csv('/data/ephemeral/home/train.csv')\n"
     ]
    },
    {
     "name": "stdout",
     "output_type": "stream",
     "text": [
      "200701    4350\n",
      "200702    3749\n",
      "200703    5449\n",
      "200704    4442\n",
      "200705    3607\n",
      "          ... \n",
      "202211     646\n",
      "202212     855\n",
      "202301    1488\n",
      "202302    2539\n",
      "202303    2889\n",
      "Name: 계약년월, Length: 195, dtype: int64\n"
     ]
    }
   ],
   "source": [
    "import pandas as pd\n",
    "dt_test = pd.read_csv('/data/ephemeral/home/train.csv')\n",
    "dt_test['계약년월'].value_counts().sort_index()\n",
    "dt_test['계약년월'] = dt_test['계약년월'].astype(str)\n",
    "dt_test_vali = dt_test[dt_test['계약년월'].isin(['202304', '202305', '202306']) ]\n",
    "dt_test_train = dt_test[~dt_test['계약년월'].isin(['202304', '202305', '202306']) ]\n",
    "print(dt_test_train['계약년월'].value_counts().sort_index())\n",
    "# len(dt_test['계약년월']==2023)"
   ]
  },
  {
   "cell_type": "code",
   "execution_count": 35,
   "metadata": {},
   "outputs": [
    {
     "name": "stderr",
     "output_type": "stream",
     "text": [
      "/tmp/ipykernel_501264/2772700258.py:2: DtypeWarning: Columns (16,17,36) have mixed types. Specify dtype option on import or set low_memory=False.\n",
      "  dt_test = pd.read_csv('/data/ephemeral/home/train.csv')\n"
     ]
    },
    {
     "data": {
      "text/plain": [
       "(1118822, 52)"
      ]
     },
     "execution_count": 35,
     "metadata": {},
     "output_type": "execute_result"
    }
   ],
   "source": [
    "import pandas as pd\n",
    "dt_test = pd.read_csv('/data/ephemeral/home/train.csv')\n",
    "dt_test.shape"
   ]
  },
  {
   "cell_type": "code",
   "execution_count": 6,
   "metadata": {},
   "outputs": [
    {
     "name": "stderr",
     "output_type": "stream",
     "text": [
      "/tmp/ipykernel_597039/3472504760.py:2: DtypeWarning: Columns (16,17,36) have mixed types. Specify dtype option on import or set low_memory=False.\n",
      "  dt_test = pd.read_csv('/data/ephemeral/home/train.csv')\n"
     ]
    },
    {
     "data": {
      "text/plain": [
       " 5     82188\n",
       " 4     82045\n",
       " 3     80561\n",
       " 2     77037\n",
       " 6     73616\n",
       "       ...  \n",
       " 68        6\n",
       " 67        6\n",
       " 65        5\n",
       "-4         4\n",
       " 69        2\n",
       "Name: 층, Length: 73, dtype: int64"
      ]
     },
     "metadata": {},
     "output_type": "display_data"
    }
   ],
   "source": [
    "import pandas as pd\n",
    "dt_test = pd.read_csv('/data/ephemeral/home/train.csv')\n",
    "nullcnt = dt_test.isnull().sum()\n",
    "notnullcnt = dt_test.notnull().sum()\n",
    "full_number = pd.concat([nullcnt + notnullcnt], axis=0)\n",
    "result_dt = pd.DataFrame({\n",
    "    'null_count': nullcnt,\n",
    "    'notnull_count': notnullcnt,\n",
    "    'full_number' : full_number })\n",
    "# display(result_dt)\n",
    "display(dt_test['층'].value_counts())"
   ]
  },
  {
   "cell_type": "code",
   "execution_count": null,
   "metadata": {},
   "outputs": [],
   "source": []
  },
  {
   "cell_type": "code",
   "execution_count": null,
   "metadata": {},
   "outputs": [
    {
     "name": "stderr",
     "output_type": "stream",
     "text": [
      "/tmp/ipykernel_501264/4208198181.py:2: DtypeWarning: Columns (16,17,36) have mixed types. Specify dtype option on import or set low_memory=False.\n",
      "  df_train = pd.read_csv('/data/ephemeral/home/train.csv')\n"
     ]
    },
    {
     "data": {
      "text/plain": [
       "올림픽로 435         4322\n",
       "솔샘로 174          3997\n",
       "송파대로 345         3603\n",
       "성북로4길 52         3487\n",
       "양재대로 1340        3369\n",
       "                 ... \n",
       "구로동로8길 59           1\n",
       "구로동로20길 37-13       1\n",
       "도림로6길 38            1\n",
       "구로동로18길 44-39       1\n",
       "시흥대로 224            1\n",
       "Name: 도로명, Length: 9232, dtype: int64"
      ]
     },
     "metadata": {},
     "output_type": "display_data"
    },
    {
     "data": {
      "text/plain": [
       "현대              16644\n",
       "신동아             12846\n",
       "한신               9074\n",
       "두산               8533\n",
       "주공2              7918\n",
       "                ...  \n",
       "송파레이크파크호반써밋Ⅱ        1\n",
       "도곡하이빌               1\n",
       "창동역블루핀1동            1\n",
       "한강리버힐B동             1\n",
       "신용산빌딩               1\n",
       "Name: 아파트명, Length: 6538, dtype: int64"
      ]
     },
     "metadata": {},
     "output_type": "display_data"
    },
    {
     "name": "stdout",
     "output_type": "stream",
     "text": [
      "9232\n",
      "6539\n",
      "6573\n"
     ]
    }
   ],
   "source": [
    "import pandas as pd\n",
    "dt_train = pd.read_csv('/data/ephemeral/home/train.csv')\n",
    "# nullcnt = dt_train.isnull().sum()\n",
    "# notnullcnt = dt_train.notnull().sum()\n",
    "# full_number = pd.concat([nullcnt + notnullcnt], axis=0)\n",
    "# result_dt = pd.DataFrame({\n",
    "#     'null_count': nullcnt,\n",
    "#     'notnull_count': notnullcnt,\n",
    "#     'full_number' : full_number })\n",
    "# # display(result_dt)\n",
    "display(dt_train['도로명'].value_counts())\n",
    "display(dt_train['아파트명'].value_counts())\n",
    "print(len(dt_train['도로명'].unique()))\n",
    "print(len(dt_train['아파트명'].unique()))\n",
    "print(len(dt_train['번지'].unique()))"
   ]
  },
  {
   "cell_type": "code",
   "execution_count": 11,
   "metadata": {},
   "outputs": [
    {
     "name": "stderr",
     "output_type": "stream",
     "text": [
      "/tmp/ipykernel_501264/3434483529.py:2: DtypeWarning: Columns (16,17,36) have mixed types. Specify dtype option on import or set low_memory=False.\n",
      "  df_train = pd.read_csv('/data/ephemeral/home/train.csv')\n"
     ]
    },
    {
     "data": {
      "text/html": [
       "<div>\n",
       "<style scoped>\n",
       "    .dataframe tbody tr th:only-of-type {\n",
       "        vertical-align: middle;\n",
       "    }\n",
       "\n",
       "    .dataframe tbody tr th {\n",
       "        vertical-align: top;\n",
       "    }\n",
       "\n",
       "    .dataframe thead th {\n",
       "        text-align: right;\n",
       "    }\n",
       "</style>\n",
       "<table border=\"1\" class=\"dataframe\">\n",
       "  <thead>\n",
       "    <tr style=\"text-align: right;\">\n",
       "      <th></th>\n",
       "      <th>시군구</th>\n",
       "      <th>번지</th>\n",
       "      <th>본번</th>\n",
       "      <th>부번</th>\n",
       "      <th>아파트명</th>\n",
       "      <th>전용면적(㎡)</th>\n",
       "      <th>계약년월</th>\n",
       "      <th>계약일</th>\n",
       "      <th>층</th>\n",
       "      <th>건축년도</th>\n",
       "      <th>...</th>\n",
       "      <th>건축면적</th>\n",
       "      <th>주차대수</th>\n",
       "      <th>기타/의무/임대/임의=1/2/3/4</th>\n",
       "      <th>단지승인일</th>\n",
       "      <th>사용허가여부</th>\n",
       "      <th>관리비 업로드</th>\n",
       "      <th>좌표X</th>\n",
       "      <th>좌표Y</th>\n",
       "      <th>단지신청일</th>\n",
       "      <th>target</th>\n",
       "    </tr>\n",
       "  </thead>\n",
       "  <tbody>\n",
       "    <tr>\n",
       "      <th>63981</th>\n",
       "      <td>서울특별시 성동구 하왕십리동</td>\n",
       "      <td>1071</td>\n",
       "      <td>1071.0</td>\n",
       "      <td>0.0</td>\n",
       "      <td>왕십리자이</td>\n",
       "      <td>59.99</td>\n",
       "      <td>201807</td>\n",
       "      <td>15</td>\n",
       "      <td>2</td>\n",
       "      <td>2017</td>\n",
       "      <td>...</td>\n",
       "      <td>NaN</td>\n",
       "      <td>NaN</td>\n",
       "      <td>NaN</td>\n",
       "      <td>NaN</td>\n",
       "      <td>NaN</td>\n",
       "      <td>NaN</td>\n",
       "      <td>NaN</td>\n",
       "      <td>NaN</td>\n",
       "      <td>NaN</td>\n",
       "      <td>74000</td>\n",
       "    </tr>\n",
       "    <tr>\n",
       "      <th>63986</th>\n",
       "      <td>서울특별시 성동구 하왕십리동</td>\n",
       "      <td>1071</td>\n",
       "      <td>1071.0</td>\n",
       "      <td>0.0</td>\n",
       "      <td>왕십리자이</td>\n",
       "      <td>84.99</td>\n",
       "      <td>201809</td>\n",
       "      <td>19</td>\n",
       "      <td>1</td>\n",
       "      <td>2017</td>\n",
       "      <td>...</td>\n",
       "      <td>NaN</td>\n",
       "      <td>NaN</td>\n",
       "      <td>NaN</td>\n",
       "      <td>NaN</td>\n",
       "      <td>NaN</td>\n",
       "      <td>NaN</td>\n",
       "      <td>NaN</td>\n",
       "      <td>NaN</td>\n",
       "      <td>NaN</td>\n",
       "      <td>101381</td>\n",
       "    </tr>\n",
       "    <tr>\n",
       "      <th>63987</th>\n",
       "      <td>서울특별시 성동구 하왕십리동</td>\n",
       "      <td>1071</td>\n",
       "      <td>1071.0</td>\n",
       "      <td>0.0</td>\n",
       "      <td>왕십리자이</td>\n",
       "      <td>84.99</td>\n",
       "      <td>201809</td>\n",
       "      <td>20</td>\n",
       "      <td>14</td>\n",
       "      <td>2017</td>\n",
       "      <td>...</td>\n",
       "      <td>NaN</td>\n",
       "      <td>NaN</td>\n",
       "      <td>NaN</td>\n",
       "      <td>NaN</td>\n",
       "      <td>NaN</td>\n",
       "      <td>NaN</td>\n",
       "      <td>NaN</td>\n",
       "      <td>NaN</td>\n",
       "      <td>NaN</td>\n",
       "      <td>93909</td>\n",
       "    </tr>\n",
       "    <tr>\n",
       "      <th>82306</th>\n",
       "      <td>서울특별시 영등포구 당산동4가</td>\n",
       "      <td>99</td>\n",
       "      <td>99.0</td>\n",
       "      <td>0.0</td>\n",
       "      <td>당산롯데캐슬프레스티지</td>\n",
       "      <td>84.98</td>\n",
       "      <td>201808</td>\n",
       "      <td>16</td>\n",
       "      <td>13</td>\n",
       "      <td>2017</td>\n",
       "      <td>...</td>\n",
       "      <td>NaN</td>\n",
       "      <td>NaN</td>\n",
       "      <td>NaN</td>\n",
       "      <td>NaN</td>\n",
       "      <td>NaN</td>\n",
       "      <td>NaN</td>\n",
       "      <td>NaN</td>\n",
       "      <td>NaN</td>\n",
       "      <td>NaN</td>\n",
       "      <td>110000</td>\n",
       "    </tr>\n",
       "    <tr>\n",
       "      <th>82307</th>\n",
       "      <td>서울특별시 영등포구 당산동4가</td>\n",
       "      <td>99</td>\n",
       "      <td>99.0</td>\n",
       "      <td>0.0</td>\n",
       "      <td>당산롯데캐슬프레스티지</td>\n",
       "      <td>84.98</td>\n",
       "      <td>201808</td>\n",
       "      <td>20</td>\n",
       "      <td>19</td>\n",
       "      <td>2017</td>\n",
       "      <td>...</td>\n",
       "      <td>NaN</td>\n",
       "      <td>NaN</td>\n",
       "      <td>NaN</td>\n",
       "      <td>NaN</td>\n",
       "      <td>NaN</td>\n",
       "      <td>NaN</td>\n",
       "      <td>NaN</td>\n",
       "      <td>NaN</td>\n",
       "      <td>NaN</td>\n",
       "      <td>107000</td>\n",
       "    </tr>\n",
       "    <tr>\n",
       "      <th>...</th>\n",
       "      <td>...</td>\n",
       "      <td>...</td>\n",
       "      <td>...</td>\n",
       "      <td>...</td>\n",
       "      <td>...</td>\n",
       "      <td>...</td>\n",
       "      <td>...</td>\n",
       "      <td>...</td>\n",
       "      <td>...</td>\n",
       "      <td>...</td>\n",
       "      <td>...</td>\n",
       "      <td>...</td>\n",
       "      <td>...</td>\n",
       "      <td>...</td>\n",
       "      <td>...</td>\n",
       "      <td>...</td>\n",
       "      <td>...</td>\n",
       "      <td>...</td>\n",
       "      <td>...</td>\n",
       "      <td>...</td>\n",
       "      <td>...</td>\n",
       "    </tr>\n",
       "    <tr>\n",
       "      <th>1115471</th>\n",
       "      <td>서울특별시 종로구 옥인동</td>\n",
       "      <td>179-3</td>\n",
       "      <td>179.0</td>\n",
       "      <td>3.0</td>\n",
       "      <td>옥인시민</td>\n",
       "      <td>59.50</td>\n",
       "      <td>200709</td>\n",
       "      <td>8</td>\n",
       "      <td>2</td>\n",
       "      <td>1971</td>\n",
       "      <td>...</td>\n",
       "      <td>NaN</td>\n",
       "      <td>NaN</td>\n",
       "      <td>NaN</td>\n",
       "      <td>NaN</td>\n",
       "      <td>NaN</td>\n",
       "      <td>NaN</td>\n",
       "      <td>NaN</td>\n",
       "      <td>NaN</td>\n",
       "      <td>NaN</td>\n",
       "      <td>26500</td>\n",
       "    </tr>\n",
       "    <tr>\n",
       "      <th>1115472</th>\n",
       "      <td>서울특별시 종로구 옥인동</td>\n",
       "      <td>179-3</td>\n",
       "      <td>179.0</td>\n",
       "      <td>3.0</td>\n",
       "      <td>옥인시민</td>\n",
       "      <td>59.50</td>\n",
       "      <td>200709</td>\n",
       "      <td>19</td>\n",
       "      <td>4</td>\n",
       "      <td>1971</td>\n",
       "      <td>...</td>\n",
       "      <td>NaN</td>\n",
       "      <td>NaN</td>\n",
       "      <td>NaN</td>\n",
       "      <td>NaN</td>\n",
       "      <td>NaN</td>\n",
       "      <td>NaN</td>\n",
       "      <td>NaN</td>\n",
       "      <td>NaN</td>\n",
       "      <td>NaN</td>\n",
       "      <td>28400</td>\n",
       "    </tr>\n",
       "    <tr>\n",
       "      <th>1115595</th>\n",
       "      <td>서울특별시 종로구 평창동</td>\n",
       "      <td>596</td>\n",
       "      <td>596.0</td>\n",
       "      <td>0.0</td>\n",
       "      <td>삼성</td>\n",
       "      <td>84.98</td>\n",
       "      <td>200701</td>\n",
       "      <td>10</td>\n",
       "      <td>5</td>\n",
       "      <td>1998</td>\n",
       "      <td>...</td>\n",
       "      <td>NaN</td>\n",
       "      <td>NaN</td>\n",
       "      <td>NaN</td>\n",
       "      <td>NaN</td>\n",
       "      <td>NaN</td>\n",
       "      <td>NaN</td>\n",
       "      <td>NaN</td>\n",
       "      <td>NaN</td>\n",
       "      <td>NaN</td>\n",
       "      <td>27500</td>\n",
       "    </tr>\n",
       "    <tr>\n",
       "      <th>1115601</th>\n",
       "      <td>서울특별시 종로구 평창동</td>\n",
       "      <td>596</td>\n",
       "      <td>596.0</td>\n",
       "      <td>0.0</td>\n",
       "      <td>삼성</td>\n",
       "      <td>84.93</td>\n",
       "      <td>200706</td>\n",
       "      <td>27</td>\n",
       "      <td>6</td>\n",
       "      <td>1998</td>\n",
       "      <td>...</td>\n",
       "      <td>NaN</td>\n",
       "      <td>NaN</td>\n",
       "      <td>NaN</td>\n",
       "      <td>NaN</td>\n",
       "      <td>NaN</td>\n",
       "      <td>NaN</td>\n",
       "      <td>NaN</td>\n",
       "      <td>NaN</td>\n",
       "      <td>NaN</td>\n",
       "      <td>30700</td>\n",
       "    </tr>\n",
       "    <tr>\n",
       "      <th>1115602</th>\n",
       "      <td>서울특별시 종로구 평창동</td>\n",
       "      <td>596</td>\n",
       "      <td>596.0</td>\n",
       "      <td>0.0</td>\n",
       "      <td>삼성</td>\n",
       "      <td>84.93</td>\n",
       "      <td>200707</td>\n",
       "      <td>6</td>\n",
       "      <td>5</td>\n",
       "      <td>1998</td>\n",
       "      <td>...</td>\n",
       "      <td>NaN</td>\n",
       "      <td>NaN</td>\n",
       "      <td>NaN</td>\n",
       "      <td>NaN</td>\n",
       "      <td>NaN</td>\n",
       "      <td>NaN</td>\n",
       "      <td>NaN</td>\n",
       "      <td>NaN</td>\n",
       "      <td>NaN</td>\n",
       "      <td>25000</td>\n",
       "    </tr>\n",
       "  </tbody>\n",
       "</table>\n",
       "<p>1209 rows × 52 columns</p>\n",
       "</div>"
      ],
      "text/plain": [
       "                      시군구     번지      본번   부번         아파트명  전용면적(㎡)    계약년월  \\\n",
       "63981     서울특별시 성동구 하왕십리동   1071  1071.0  0.0        왕십리자이    59.99  201807   \n",
       "63986     서울특별시 성동구 하왕십리동   1071  1071.0  0.0        왕십리자이    84.99  201809   \n",
       "63987     서울특별시 성동구 하왕십리동   1071  1071.0  0.0        왕십리자이    84.99  201809   \n",
       "82306    서울특별시 영등포구 당산동4가     99    99.0  0.0  당산롯데캐슬프레스티지    84.98  201808   \n",
       "82307    서울특별시 영등포구 당산동4가     99    99.0  0.0  당산롯데캐슬프레스티지    84.98  201808   \n",
       "...                   ...    ...     ...  ...          ...      ...     ...   \n",
       "1115471     서울특별시 종로구 옥인동  179-3   179.0  3.0         옥인시민    59.50  200709   \n",
       "1115472     서울특별시 종로구 옥인동  179-3   179.0  3.0         옥인시민    59.50  200709   \n",
       "1115595     서울특별시 종로구 평창동    596   596.0  0.0           삼성    84.98  200701   \n",
       "1115601     서울특별시 종로구 평창동    596   596.0  0.0           삼성    84.93  200706   \n",
       "1115602     서울특별시 종로구 평창동    596   596.0  0.0           삼성    84.93  200707   \n",
       "\n",
       "         계약일   층  건축년도  ... 건축면적  주차대수 기타/의무/임대/임의=1/2/3/4 단지승인일 사용허가여부  \\\n",
       "63981     15   2  2017  ...  NaN   NaN                 NaN   NaN    NaN   \n",
       "63986     19   1  2017  ...  NaN   NaN                 NaN   NaN    NaN   \n",
       "63987     20  14  2017  ...  NaN   NaN                 NaN   NaN    NaN   \n",
       "82306     16  13  2017  ...  NaN   NaN                 NaN   NaN    NaN   \n",
       "82307     20  19  2017  ...  NaN   NaN                 NaN   NaN    NaN   \n",
       "...      ...  ..   ...  ...  ...   ...                 ...   ...    ...   \n",
       "1115471    8   2  1971  ...  NaN   NaN                 NaN   NaN    NaN   \n",
       "1115472   19   4  1971  ...  NaN   NaN                 NaN   NaN    NaN   \n",
       "1115595   10   5  1998  ...  NaN   NaN                 NaN   NaN    NaN   \n",
       "1115601   27   6  1998  ...  NaN   NaN                 NaN   NaN    NaN   \n",
       "1115602    6   5  1998  ...  NaN   NaN                 NaN   NaN    NaN   \n",
       "\n",
       "        관리비 업로드 좌표X 좌표Y  단지신청일  target  \n",
       "63981       NaN NaN NaN    NaN   74000  \n",
       "63986       NaN NaN NaN    NaN  101381  \n",
       "63987       NaN NaN NaN    NaN   93909  \n",
       "82306       NaN NaN NaN    NaN  110000  \n",
       "82307       NaN NaN NaN    NaN  107000  \n",
       "...         ...  ..  ..    ...     ...  \n",
       "1115471     NaN NaN NaN    NaN   26500  \n",
       "1115472     NaN NaN NaN    NaN   28400  \n",
       "1115595     NaN NaN NaN    NaN   27500  \n",
       "1115601     NaN NaN NaN    NaN   30700  \n",
       "1115602     NaN NaN NaN    NaN   25000  \n",
       "\n",
       "[1209 rows x 52 columns]"
      ]
     },
     "metadata": {},
     "output_type": "display_data"
    },
    {
     "data": {
      "text/plain": [
       "[0          False\n",
       " 1          False\n",
       " 2          False\n",
       " 3          False\n",
       " 4          False\n",
       "            ...  \n",
       " 1118817    False\n",
       " 1118818    False\n",
       " 1118819    False\n",
       " 1118820    False\n",
       " 1118821    False\n",
       " Name: 도로명, Length: 1118822, dtype: bool]"
      ]
     },
     "metadata": {},
     "output_type": "display_data"
    }
   ],
   "source": [
    "import pandas as pd\n",
    "df_train = pd.read_csv('/data/ephemeral/home/train.csv')\n",
    "display([df_train['도로명'] == ' '])"
   ]
  },
  {
   "cell_type": "code",
   "execution_count": 1,
   "metadata": {},
   "outputs": [
    {
     "ename": "NameError",
     "evalue": "name 'df_train' is not defined",
     "output_type": "error",
     "traceback": [
      "\u001b[0;31m---------------------------------------------------------------------------\u001b[0m",
      "\u001b[0;31mNameError\u001b[0m                                 Traceback (most recent call last)",
      "Cell \u001b[0;32mIn[1], line 1\u001b[0m\n\u001b[0;32m----> 1\u001b[0m df_train[\u001b[38;5;124m'\u001b[39m\u001b[38;5;124mfull_address\u001b[39m\u001b[38;5;124m'\u001b[39m] \u001b[38;5;241m=\u001b[39m \u001b[43mdf_train\u001b[49m[\u001b[38;5;124m'\u001b[39m\u001b[38;5;124m시군구\u001b[39m\u001b[38;5;124m'\u001b[39m] \u001b[38;5;241m+\u001b[39m df_train[\u001b[38;5;124m'\u001b[39m\u001b[38;5;124m도로명\u001b[39m\u001b[38;5;124m'\u001b[39m]\n\u001b[1;32m      2\u001b[0m \u001b[38;5;28mprint\u001b[39m(df_train[\u001b[38;5;124m'\u001b[39m\u001b[38;5;124mfull_address\u001b[39m\u001b[38;5;124m'\u001b[39m])\n",
      "\u001b[0;31mNameError\u001b[0m: name 'df_train' is not defined"
     ]
    }
   ],
   "source": [
    "df_train['full_address'] = df_train['시군구'] + df_train['도로명']\n",
    "print(df_train['full_address'])"
   ]
  },
  {
   "cell_type": "code",
   "execution_count": 34,
   "metadata": {},
   "outputs": [
    {
     "ename": "NameError",
     "evalue": "name 'dt_train' is not defined",
     "output_type": "error",
     "traceback": [
      "\u001b[0;31m---------------------------------------------------------------------------\u001b[0m",
      "\u001b[0;31mNameError\u001b[0m                                 Traceback (most recent call last)",
      "Cell \u001b[0;32mIn[34], line 2\u001b[0m\n\u001b[1;32m      1\u001b[0m \u001b[38;5;66;03m# display(df[df['번지'].isnull()])\u001b[39;00m\n\u001b[0;32m----> 2\u001b[0m df_train[\u001b[38;5;124m'\u001b[39m\u001b[38;5;124mfull_address\u001b[39m\u001b[38;5;124m'\u001b[39m] \u001b[38;5;241m=\u001b[39m \u001b[43mdt_train\u001b[49m[\u001b[38;5;124m'\u001b[39m\u001b[38;5;124m시군구\u001b[39m\u001b[38;5;124m'\u001b[39m] \u001b[38;5;241m+\u001b[39m df_train[\u001b[38;5;124m'\u001b[39m\u001b[38;5;124m도로명\u001b[39m\u001b[38;5;124m'\u001b[39m]\n\u001b[1;32m      3\u001b[0m df_address_needed \u001b[38;5;241m=\u001b[39m df_train[df_train[\u001b[38;5;124m'\u001b[39m\u001b[38;5;124m좌표X\u001b[39m\u001b[38;5;124m'\u001b[39m]\u001b[38;5;241m.\u001b[39misnull()][[\u001b[38;5;124m'\u001b[39m\u001b[38;5;124m도로명\u001b[39m\u001b[38;5;124m'\u001b[39m]]\n\u001b[1;32m      4\u001b[0m df_address_needed_index \u001b[38;5;241m=\u001b[39m dt_address_needed\u001b[38;5;241m.\u001b[39mindex\n",
      "\u001b[0;31mNameError\u001b[0m: name 'dt_train' is not defined"
     ]
    }
   ],
   "source": [
    "# display(df[df['번지'].isnull()])\n",
    "df_train['full_address'] = dt_train['시군구'] + df_train['도로명']\n",
    "df_address_needed = df_train[df_train['좌표X'].isnull()][['도로명']]\n",
    "df_address_needed_index = dt_address_needed.index\n",
    "display(df_address_needed)\n",
    "display(dt_address_needed_index)"
   ]
  },
  {
   "cell_type": "code",
   "execution_count": null,
   "metadata": {},
   "outputs": [],
   "source": [
    "# 앞서 예측한 예측값들을 저장합니다.\n",
    "# fill_needed = pd.DataFrame(dt_address_needed)\n",
    "# fill_needed.to_csv('null-x.csv')"
   ]
  },
  {
   "cell_type": "code",
   "execution_count": 4,
   "metadata": {},
   "outputs": [
    {
     "name": "stdout",
     "output_type": "stream",
     "text": [
      "Requirement already satisfied: geopy in c:\\users\\aidan\\anaconda3\\lib\\site-packages (2.4.1)\n",
      "Requirement already satisfied: geographiclib<3,>=1.52 in c:\\users\\aidan\\anaconda3\\lib\\site-packages (from geopy) (2.0)\n",
      "Note: you may need to restart the kernel to use updated packages.\n"
     ]
    },
    {
     "ename": "GeocoderInsufficientPrivileges",
     "evalue": "Non-successful status code 403",
     "output_type": "error",
     "traceback": [
      "\u001b[1;31m---------------------------------------------------------------------------\u001b[0m",
      "\u001b[1;31mAdapterHTTPError\u001b[0m                          Traceback (most recent call last)",
      "File \u001b[1;32mc:\\Users\\aidan\\anaconda3\\Lib\\site-packages\\geopy\\geocoders\\base.py:368\u001b[0m, in \u001b[0;36mGeocoder._call_geocoder\u001b[1;34m(self, url, callback, timeout, is_json, headers)\u001b[0m\n\u001b[0;32m    367\u001b[0m \u001b[38;5;28;01mif\u001b[39;00m is_json:\n\u001b[1;32m--> 368\u001b[0m     result \u001b[38;5;241m=\u001b[39m \u001b[38;5;28mself\u001b[39m\u001b[38;5;241m.\u001b[39madapter\u001b[38;5;241m.\u001b[39mget_json(url, timeout\u001b[38;5;241m=\u001b[39mtimeout, headers\u001b[38;5;241m=\u001b[39mreq_headers)\n\u001b[0;32m    369\u001b[0m \u001b[38;5;28;01melse\u001b[39;00m:\n",
      "File \u001b[1;32mc:\\Users\\aidan\\anaconda3\\Lib\\site-packages\\geopy\\adapters.py:472\u001b[0m, in \u001b[0;36mRequestsAdapter.get_json\u001b[1;34m(self, url, timeout, headers)\u001b[0m\n\u001b[0;32m    471\u001b[0m \u001b[38;5;28;01mdef\u001b[39;00m \u001b[38;5;21mget_json\u001b[39m(\u001b[38;5;28mself\u001b[39m, url, \u001b[38;5;241m*\u001b[39m, timeout, headers):\n\u001b[1;32m--> 472\u001b[0m     resp \u001b[38;5;241m=\u001b[39m \u001b[38;5;28mself\u001b[39m\u001b[38;5;241m.\u001b[39m_request(url, timeout\u001b[38;5;241m=\u001b[39mtimeout, headers\u001b[38;5;241m=\u001b[39mheaders)\n\u001b[0;32m    473\u001b[0m     \u001b[38;5;28;01mtry\u001b[39;00m:\n",
      "File \u001b[1;32mc:\\Users\\aidan\\anaconda3\\Lib\\site-packages\\geopy\\adapters.py:500\u001b[0m, in \u001b[0;36mRequestsAdapter._request\u001b[1;34m(self, url, timeout, headers)\u001b[0m\n\u001b[0;32m    499\u001b[0m     \u001b[38;5;28;01mif\u001b[39;00m resp\u001b[38;5;241m.\u001b[39mstatus_code \u001b[38;5;241m>\u001b[39m\u001b[38;5;241m=\u001b[39m \u001b[38;5;241m400\u001b[39m:\n\u001b[1;32m--> 500\u001b[0m         \u001b[38;5;28;01mraise\u001b[39;00m AdapterHTTPError(\n\u001b[0;32m    501\u001b[0m             \u001b[38;5;124m\"\u001b[39m\u001b[38;5;124mNon-successful status code \u001b[39m\u001b[38;5;132;01m%s\u001b[39;00m\u001b[38;5;124m\"\u001b[39m \u001b[38;5;241m%\u001b[39m resp\u001b[38;5;241m.\u001b[39mstatus_code,\n\u001b[0;32m    502\u001b[0m             status_code\u001b[38;5;241m=\u001b[39mresp\u001b[38;5;241m.\u001b[39mstatus_code,\n\u001b[0;32m    503\u001b[0m             headers\u001b[38;5;241m=\u001b[39mresp\u001b[38;5;241m.\u001b[39mheaders,\n\u001b[0;32m    504\u001b[0m             text\u001b[38;5;241m=\u001b[39mresp\u001b[38;5;241m.\u001b[39mtext,\n\u001b[0;32m    505\u001b[0m         )\n\u001b[0;32m    507\u001b[0m \u001b[38;5;28;01mreturn\u001b[39;00m resp\n",
      "\u001b[1;31mAdapterHTTPError\u001b[0m: Non-successful status code 403",
      "\nThe above exception was the direct cause of the following exception:\n",
      "\u001b[1;31mGeocoderInsufficientPrivileges\u001b[0m            Traceback (most recent call last)",
      "Cell \u001b[1;32mIn[4], line 11\u001b[0m\n\u001b[0;32m      9\u001b[0m \u001b[38;5;66;03m#데이터의 좌표주소 열을 이용해 지오코딩\u001b[39;00m\n\u001b[0;32m     10\u001b[0m \u001b[38;5;28;01mfor\u001b[39;00m i, loc \u001b[38;5;129;01min\u001b[39;00m \u001b[38;5;28menumerate\u001b[39m(df_address_needed[\u001b[38;5;124m'\u001b[39m\u001b[38;5;124m도로명\u001b[39m\u001b[38;5;124m'\u001b[39m]):\n\u001b[1;32m---> 11\u001b[0m     coord \u001b[38;5;241m=\u001b[39m geolocator\u001b[38;5;241m.\u001b[39mgeocode(loc)[\u001b[38;5;241m-\u001b[39m\u001b[38;5;241m1\u001b[39m]\n\u001b[0;32m     12\u001b[0m     df_address_needed\u001b[38;5;241m.\u001b[39mloc[i, \u001b[38;5;124m'\u001b[39m\u001b[38;5;124m위도\u001b[39m\u001b[38;5;124m'\u001b[39m] \u001b[38;5;241m=\u001b[39m coord[\u001b[38;5;241m0\u001b[39m]\n\u001b[0;32m     13\u001b[0m     df_address_needed\u001b[38;5;241m.\u001b[39mloc[i, \u001b[38;5;124m'\u001b[39m\u001b[38;5;124m경도\u001b[39m\u001b[38;5;124m'\u001b[39m] \u001b[38;5;241m=\u001b[39m coord[\u001b[38;5;241m1\u001b[39m]\n",
      "File \u001b[1;32mc:\\Users\\aidan\\anaconda3\\Lib\\site-packages\\geopy\\geocoders\\nominatim.py:297\u001b[0m, in \u001b[0;36mNominatim.geocode\u001b[1;34m(self, query, exactly_one, timeout, limit, addressdetails, language, geometry, extratags, country_codes, viewbox, bounded, featuretype, namedetails)\u001b[0m\n\u001b[0;32m    295\u001b[0m logger\u001b[38;5;241m.\u001b[39mdebug(\u001b[38;5;124m\"\u001b[39m\u001b[38;5;132;01m%s\u001b[39;00m\u001b[38;5;124m.geocode: \u001b[39m\u001b[38;5;132;01m%s\u001b[39;00m\u001b[38;5;124m\"\u001b[39m, \u001b[38;5;28mself\u001b[39m\u001b[38;5;241m.\u001b[39m\u001b[38;5;18m__class__\u001b[39m\u001b[38;5;241m.\u001b[39m\u001b[38;5;18m__name__\u001b[39m, url)\n\u001b[0;32m    296\u001b[0m callback \u001b[38;5;241m=\u001b[39m partial(\u001b[38;5;28mself\u001b[39m\u001b[38;5;241m.\u001b[39m_parse_json, exactly_one\u001b[38;5;241m=\u001b[39mexactly_one)\n\u001b[1;32m--> 297\u001b[0m \u001b[38;5;28;01mreturn\u001b[39;00m \u001b[38;5;28mself\u001b[39m\u001b[38;5;241m.\u001b[39m_call_geocoder(url, callback, timeout\u001b[38;5;241m=\u001b[39mtimeout)\n",
      "File \u001b[1;32mc:\\Users\\aidan\\anaconda3\\Lib\\site-packages\\geopy\\geocoders\\base.py:388\u001b[0m, in \u001b[0;36mGeocoder._call_geocoder\u001b[1;34m(self, url, callback, timeout, is_json, headers)\u001b[0m\n\u001b[0;32m    386\u001b[0m         \u001b[38;5;28;01mreturn\u001b[39;00m callback(result)\n\u001b[0;32m    387\u001b[0m \u001b[38;5;28;01mexcept\u001b[39;00m \u001b[38;5;167;01mException\u001b[39;00m \u001b[38;5;28;01mas\u001b[39;00m error:\n\u001b[1;32m--> 388\u001b[0m     res \u001b[38;5;241m=\u001b[39m \u001b[38;5;28mself\u001b[39m\u001b[38;5;241m.\u001b[39m_adapter_error_handler(error)\n\u001b[0;32m    389\u001b[0m     \u001b[38;5;28;01mif\u001b[39;00m res \u001b[38;5;129;01mis\u001b[39;00m NONE_RESULT:\n\u001b[0;32m    390\u001b[0m         \u001b[38;5;28;01mreturn\u001b[39;00m \u001b[38;5;28;01mNone\u001b[39;00m\n",
      "File \u001b[1;32mc:\\Users\\aidan\\anaconda3\\Lib\\site-packages\\geopy\\geocoders\\base.py:411\u001b[0m, in \u001b[0;36mGeocoder._adapter_error_handler\u001b[1;34m(self, error)\u001b[0m\n\u001b[0;32m    407\u001b[0m         \u001b[38;5;28;01mraise\u001b[39;00m exc_cls(\n\u001b[0;32m    408\u001b[0m             \u001b[38;5;28mstr\u001b[39m(error), retry_after\u001b[38;5;241m=\u001b[39mget_retry_after(error\u001b[38;5;241m.\u001b[39mheaders)\n\u001b[0;32m    409\u001b[0m         ) \u001b[38;5;28;01mfrom\u001b[39;00m \u001b[38;5;21;01merror\u001b[39;00m\n\u001b[0;32m    410\u001b[0m     \u001b[38;5;28;01melse\u001b[39;00m:\n\u001b[1;32m--> 411\u001b[0m         \u001b[38;5;28;01mraise\u001b[39;00m exc_cls(\u001b[38;5;28mstr\u001b[39m(error)) \u001b[38;5;28;01mfrom\u001b[39;00m \u001b[38;5;21;01merror\u001b[39;00m\n\u001b[0;32m    412\u001b[0m \u001b[38;5;28;01melse\u001b[39;00m:\n\u001b[0;32m    413\u001b[0m     res \u001b[38;5;241m=\u001b[39m \u001b[38;5;28mself\u001b[39m\u001b[38;5;241m.\u001b[39m_geocoder_exception_handler(error)\n",
      "\u001b[1;31mGeocoderInsufficientPrivileges\u001b[0m: Non-successful status code 403"
     ]
    }
   ],
   "source": [
    "%pip install geopy\n",
    "from geopy.geocoders import Nominatim\n",
    "geolocator = Nominatim(user_agent=\"myGeocoder\")\n",
    "\n",
    "# 위도와 경도 열을 미리 생성\n",
    "df_address_needed['위도'] = None\n",
    "df_address_needed['경도'] = None\n",
    "\n",
    "#데이터의 좌표주소 열을 이용해 지오코딩\n",
    "for i, loc in enumerate(df_address_needed['도로명']):\n",
    "    coord = geolocator.geocode(loc)[-1]\n",
    "    df_address_needed.loc[i, '위도'] = coord[0]\n",
    "    df_address_needed.loc[i, '경도'] = coord[1]\n",
    "print(df_address_needed)"
   ]
  }
 ],
 "metadata": {
  "kernelspec": {
   "display_name": "base",
   "language": "python",
   "name": "python3"
  },
  "language_info": {
   "codemirror_mode": {
    "name": "ipython",
    "version": 3
   },
   "file_extension": ".py",
   "mimetype": "text/x-python",
   "name": "python",
   "nbconvert_exporter": "python",
   "pygments_lexer": "ipython3",
   "version": "3.10.13"
  }
 },
 "nbformat": 4,
 "nbformat_minor": 2
}
