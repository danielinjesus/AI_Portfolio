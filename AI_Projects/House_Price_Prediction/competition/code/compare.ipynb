{
 "cells": [
  {
   "cell_type": "code",
   "execution_count": 10,
   "metadata": {},
   "outputs": [
    {
     "name": "stdout",
     "output_type": "stream",
     "text": [
      "True    9272\n",
      "Name: target, dtype: int64\n",
      "Series([], Name: target, dtype: bool)\n"
     ]
    }
   ],
   "source": [
    "import pandas as pd\n",
    "base6 = pd.read_csv('/data/ephemeral/home/AI_Portfolio/AI_Projects/House_Price_Prediction/competition/code/1.baseline_output.csv')\n",
    "base6_1 = pd.read_csv('/data/ephemeral/home/AI_Portfolio/AI_Projects/House_Price_Prediction/competition/code/1.1_RMSE_only.csv')\n",
    "# display(base6.value_counts())\n",
    "# display(base6_1.value_counts())\n",
    "comparison = base6['target'] == base6_1['target']\n",
    "comparison\n",
    "# print(comparison)\n",
    "print(comparison.value_counts())\n",
    "print(comparison[comparison == False]) #시리즈 객체라서...\n"
   ]
  },
  {
   "cell_type": "code",
   "execution_count": 11,
   "metadata": {},
   "outputs": [
    {
     "name": "stdout",
     "output_type": "stream",
     "text": [
      "False    9224\n",
      "True       48\n",
      "Name: target, dtype: int64\n",
      "0       False\n",
      "1       False\n",
      "2       False\n",
      "3       False\n",
      "4       False\n",
      "        ...  \n",
      "9267    False\n",
      "9268    False\n",
      "9269    False\n",
      "9270    False\n",
      "9271    False\n",
      "Name: target, Length: 9224, dtype: bool\n"
     ]
    }
   ],
   "source": [
    "import pandas as pd\n",
    "base6 = pd.read_csv('/data/ephemeral/home/AI_Portfolio/AI_Projects/House_Price_Prediction/competition/code/1.baseline_output.csv')\n",
    "base6_1 = pd.read_csv('/data/ephemeral/home/AI_Portfolio/AI_Projects/House_Price_Prediction/competition/code/1.2custom_RMSE.csv')\n",
    "# display(base6.value_counts())\n",
    "# display(base6_1.value_counts())\n",
    "comparison = base6['target'] == base6_1['target']\n",
    "comparison\n",
    "# print(comparison)\n",
    "print(comparison.value_counts())\n",
    "print(comparison[comparison == False]) #시리즈 객체라서...\n"
   ]
  },
  {
   "cell_type": "code",
   "execution_count": 4,
   "metadata": {},
   "outputs": [
    {
     "name": "stdout",
     "output_type": "stream",
     "text": [
      "True     9270\n",
      "False       2\n",
      "Name: target, dtype: int64\n",
      "7504    False\n",
      "7517    False\n",
      "Name: target, dtype: bool\n"
     ]
    }
   ],
   "source": [
    "import pandas as pd\n",
    "base6 = pd.read_csv('/data/ephemeral/home/AI_Portfolio/AI_Projects/House_Price_Prediction/competition/submission/6-1_onehot_address_baseoutput.csv')\n",
    "base6_1 = pd.read_csv('/data/ephemeral/home/AI_Portfolio/AI_Projects/House_Price_Prediction/competition/submission/6.0_onehot_address_baseoutput.csv')\n",
    "# display(base6.value_counts())\n",
    "# display(base6_1.value_counts())\n",
    "comparison = base6['target'] == base6_1['target']\n",
    "comparison\n",
    "# print(comparison)\n",
    "print(comparison.value_counts())\n",
    "print(comparison[comparison == False]) #시리즈 객체라서...\n"
   ]
  },
  {
   "cell_type": "code",
   "execution_count": null,
   "metadata": {},
   "outputs": [
    {
     "name": "stdout",
     "output_type": "stream",
     "text": [
      "      base6_target  base6_1_target\n",
      "7504         70159           70160\n",
      "7517         70159           70160\n"
     ]
    }
   ],
   "source": [
    "import pandas as pd\n",
    "\n",
    "# CSV 파일 불러오기\n",
    "base6 = pd.read_csv('/data/ephemeral/home/AI_Portfolio/AI_Projects/House_Price_Prediction/competition/submission/6-1_onehot_address_baseoutput.csv')\n",
    "base6_1 = pd.read_csv('/data/ephemeral/home/AI_Portfolio/AI_Projects/House_Price_Prediction/competition/submission/6.0_onehot_address_baseoutput.csv')\n",
    "\n",
    "# target 열의 값 비교\n",
    "comparison = base6['target'] == base6_1['target']\n",
    "\n",
    "# 값이 다른 행들만 필터링하여 양쪽의 target 값 보기\n",
    "differences = pd.DataFrame({\n",
    "    'base6_target': base6['target'][~comparison],\n",
    "    'base6_1_target': base6_1['target'][~comparison]\n",
    "})\n",
    "\n",
    "print(differences)\n"
   ]
  },
  {
   "cell_type": "code",
   "execution_count": 7,
   "metadata": {},
   "outputs": [
    {
     "name": "stdout",
     "output_type": "stream",
     "text": [
      "      base6_target  base7_target\n",
      "0           222200        235100\n",
      "1           336400        373400\n",
      "2           340000        297800\n",
      "3           292900        311800\n",
      "4           245600        229200\n",
      "...            ...           ...\n",
      "9267         66050         73250\n",
      "9268         63500         71100\n",
      "9269         92566         72990\n",
      "9270         66485         62400\n",
      "9271         73030         74150\n",
      "\n",
      "[9199 rows x 2 columns]\n"
     ]
    }
   ],
   "source": [
    "import pandas as pd\n",
    "\n",
    "# CSV 파일 불러오기\n",
    "base6 = pd.read_csv('/data/ephemeral/home/AI_Portfolio/AI_Projects/House_Price_Prediction/competition/submission/6-1_onehot_address_baseoutput.csv')\n",
    "base7 = pd.read_csv('/data/ephemeral/home/AI_Portfolio/AI_Projects/House_Price_Prediction/competition/submission/7_onehot_address_baseoutput.csv')\n",
    "\n",
    "# target 열의 값 비교\n",
    "comparison = base6['target'] == base7['target']\n",
    "\n",
    "# 값이 다른 행들만 필터링하여 양쪽의 target 값 보기\n",
    "differences = pd.DataFrame({\n",
    "    'base6_target': base6['target'][~comparison],\n",
    "    'base7_target': base7['target'][~comparison]\n",
    "})\n",
    "\n",
    "print(differences)\n"
   ]
  }
 ],
 "metadata": {
  "kernelspec": {
   "display_name": "base",
   "language": "python",
   "name": "python3"
  },
  "language_info": {
   "codemirror_mode": {
    "name": "ipython",
    "version": 3
   },
   "file_extension": ".py",
   "mimetype": "text/x-python",
   "name": "python",
   "nbconvert_exporter": "python",
   "pygments_lexer": "ipython3",
   "version": "3.10.13"
  }
 },
 "nbformat": 4,
 "nbformat_minor": 2
}
