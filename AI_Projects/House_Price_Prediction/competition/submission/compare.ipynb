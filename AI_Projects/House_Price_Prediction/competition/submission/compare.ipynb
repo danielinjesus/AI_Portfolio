{
 "cells": [
  {
   "cell_type": "code",
   "execution_count": 5,
   "metadata": {},
   "outputs": [
    {
     "name": "stdout",
     "output_type": "stream",
     "text": [
      "True     9270\n",
      "False       2\n",
      "Name: target, dtype: int64\n"
     ]
    },
    {
     "ename": "KeyError",
     "evalue": "'target'",
     "output_type": "error",
     "traceback": [
      "\u001b[0;31m---------------------------------------------------------------------------\u001b[0m",
      "\u001b[0;31mKeyError\u001b[0m                                  Traceback (most recent call last)",
      "Cell \u001b[0;32mIn[5], line 10\u001b[0m\n\u001b[1;32m      8\u001b[0m \u001b[38;5;66;03m# print(comparison)\u001b[39;00m\n\u001b[1;32m      9\u001b[0m \u001b[38;5;28mprint\u001b[39m(comparison\u001b[38;5;241m.\u001b[39mvalue_counts())\n\u001b[0;32m---> 10\u001b[0m \u001b[38;5;28mprint\u001b[39m(comparison[\u001b[43mcomparison\u001b[49m\u001b[43m[\u001b[49m\u001b[38;5;124;43m'\u001b[39;49m\u001b[38;5;124;43mtarget\u001b[39;49m\u001b[38;5;124;43m'\u001b[39;49m\u001b[43m]\u001b[49m \u001b[38;5;241m==\u001b[39m false])\n",
      "File \u001b[0;32m/opt/conda/lib/python3.10/site-packages/pandas/core/series.py:981\u001b[0m, in \u001b[0;36mSeries.__getitem__\u001b[0;34m(self, key)\u001b[0m\n\u001b[1;32m    978\u001b[0m     \u001b[38;5;28;01mreturn\u001b[39;00m \u001b[38;5;28mself\u001b[39m\u001b[38;5;241m.\u001b[39m_values[key]\n\u001b[1;32m    980\u001b[0m \u001b[38;5;28;01melif\u001b[39;00m key_is_scalar:\n\u001b[0;32m--> 981\u001b[0m     \u001b[38;5;28;01mreturn\u001b[39;00m \u001b[38;5;28;43mself\u001b[39;49m\u001b[38;5;241;43m.\u001b[39;49m\u001b[43m_get_value\u001b[49m\u001b[43m(\u001b[49m\u001b[43mkey\u001b[49m\u001b[43m)\u001b[49m\n\u001b[1;32m    983\u001b[0m \u001b[38;5;28;01mif\u001b[39;00m is_hashable(key):\n\u001b[1;32m    984\u001b[0m     \u001b[38;5;66;03m# Otherwise index.get_value will raise InvalidIndexError\u001b[39;00m\n\u001b[1;32m    985\u001b[0m     \u001b[38;5;28;01mtry\u001b[39;00m:\n\u001b[1;32m    986\u001b[0m         \u001b[38;5;66;03m# For labels that don't resolve as scalars like tuples and frozensets\u001b[39;00m\n",
      "File \u001b[0;32m/opt/conda/lib/python3.10/site-packages/pandas/core/series.py:1089\u001b[0m, in \u001b[0;36mSeries._get_value\u001b[0;34m(self, label, takeable)\u001b[0m\n\u001b[1;32m   1086\u001b[0m     \u001b[38;5;28;01mreturn\u001b[39;00m \u001b[38;5;28mself\u001b[39m\u001b[38;5;241m.\u001b[39m_values[label]\n\u001b[1;32m   1088\u001b[0m \u001b[38;5;66;03m# Similar to Index.get_value, but we do not fall back to positional\u001b[39;00m\n\u001b[0;32m-> 1089\u001b[0m loc \u001b[38;5;241m=\u001b[39m \u001b[38;5;28;43mself\u001b[39;49m\u001b[38;5;241;43m.\u001b[39;49m\u001b[43mindex\u001b[49m\u001b[38;5;241;43m.\u001b[39;49m\u001b[43mget_loc\u001b[49m\u001b[43m(\u001b[49m\u001b[43mlabel\u001b[49m\u001b[43m)\u001b[49m\n\u001b[1;32m   1090\u001b[0m \u001b[38;5;28;01mreturn\u001b[39;00m \u001b[38;5;28mself\u001b[39m\u001b[38;5;241m.\u001b[39mindex\u001b[38;5;241m.\u001b[39m_get_values_for_loc(\u001b[38;5;28mself\u001b[39m, loc, label)\n",
      "File \u001b[0;32m/opt/conda/lib/python3.10/site-packages/pandas/core/indexes/range.py:395\u001b[0m, in \u001b[0;36mRangeIndex.get_loc\u001b[0;34m(self, key, method, tolerance)\u001b[0m\n\u001b[1;32m    393\u001b[0m             \u001b[38;5;28;01mraise\u001b[39;00m \u001b[38;5;167;01mKeyError\u001b[39;00m(key) \u001b[38;5;28;01mfrom\u001b[39;00m \u001b[38;5;21;01merr\u001b[39;00m\n\u001b[1;32m    394\u001b[0m     \u001b[38;5;28mself\u001b[39m\u001b[38;5;241m.\u001b[39m_check_indexing_error(key)\n\u001b[0;32m--> 395\u001b[0m     \u001b[38;5;28;01mraise\u001b[39;00m \u001b[38;5;167;01mKeyError\u001b[39;00m(key)\n\u001b[1;32m    396\u001b[0m \u001b[38;5;28;01mreturn\u001b[39;00m \u001b[38;5;28msuper\u001b[39m()\u001b[38;5;241m.\u001b[39mget_loc(key, method\u001b[38;5;241m=\u001b[39mmethod, tolerance\u001b[38;5;241m=\u001b[39mtolerance)\n",
      "\u001b[0;31mKeyError\u001b[0m: 'target'"
     ]
    }
   ],
   "source": [
    "import pandas as pd\n",
    "base6 = pd.read_csv('/data/ephemeral/home/AI_Portfolio/AI_Projects/House_Price_Prediction/competition/submission/6-1_onehot_address_baseoutput.csv')\n",
    "base6_1 = pd.read_csv('/data/ephemeral/home/AI_Portfolio/AI_Projects/House_Price_Prediction/competition/submission/6.0_onehot_address_baseoutput.csv')\n",
    "# display(base6.value_counts())\n",
    "# display(base6_1.value_counts())\n",
    "comparison = base6['target'] == base6_1['target']\n",
    "comparison\n",
    "# print(comparison)\n",
    "print(comparison.value_counts())\n",
    "print(comparison[comparison['target'] == false])\n"
   ]
  },
  {
   "cell_type": "code",
   "execution_count": null,
   "metadata": {},
   "outputs": [
    {
     "name": "stdout",
     "output_type": "stream",
     "text": [
      "      base6_target  base6_1_target\n",
      "7504         70159           70160\n",
      "7517         70159           70160\n"
     ]
    }
   ],
   "source": [
    "import pandas as pd\n",
    "\n",
    "# CSV 파일 불러오기\n",
    "base6 = pd.read_csv('/data/ephemeral/home/AI_Portfolio/AI_Projects/House_Price_Prediction/competition/submission/6-1_onehot_address_baseoutput.csv')\n",
    "base6_1 = pd.read_csv('/data/ephemeral/home/AI_Portfolio/AI_Projects/House_Price_Prediction/competition/submission/6.0_onehot_address_baseoutput.csv')\n",
    "\n",
    "# target 열의 값 비교\n",
    "comparison = base6['target'] == base6_1['target']\n",
    "\n",
    "# 값이 다른 행들만 필터링하여 양쪽의 target 값 보기\n",
    "differences = pd.DataFrame({\n",
    "    'base6_target': base6['target'][~comparison],\n",
    "    'base6_1_target': base6_1['target'][~comparison]\n",
    "})\n",
    "\n",
    "print(differences)\n"
   ]
  },
  {
   "cell_type": "code",
   "execution_count": 7,
   "metadata": {},
   "outputs": [
    {
     "name": "stdout",
     "output_type": "stream",
     "text": [
      "      base6_target  base7_target\n",
      "0           222200        235100\n",
      "1           336400        373400\n",
      "2           340000        297800\n",
      "3           292900        311800\n",
      "4           245600        229200\n",
      "...            ...           ...\n",
      "9267         66050         73250\n",
      "9268         63500         71100\n",
      "9269         92566         72990\n",
      "9270         66485         62400\n",
      "9271         73030         74150\n",
      "\n",
      "[9199 rows x 2 columns]\n"
     ]
    }
   ],
   "source": [
    "import pandas as pd\n",
    "\n",
    "# CSV 파일 불러오기\n",
    "base6 = pd.read_csv('/data/ephemeral/home/AI_Portfolio/AI_Projects/House_Price_Prediction/competition/submission/6-1_onehot_address_baseoutput.csv')\n",
    "base7 = pd.read_csv('/data/ephemeral/home/AI_Portfolio/AI_Projects/House_Price_Prediction/competition/submission/7_onehot_address_baseoutput.csv')\n",
    "\n",
    "# target 열의 값 비교\n",
    "comparison = base6['target'] == base7['target']\n",
    "\n",
    "# 값이 다른 행들만 필터링하여 양쪽의 target 값 보기\n",
    "differences = pd.DataFrame({\n",
    "    'base6_target': base6['target'][~comparison],\n",
    "    'base7_target': base7['target'][~comparison]\n",
    "})\n",
    "\n",
    "print(differences)\n"
   ]
  }
 ],
 "metadata": {
  "kernelspec": {
   "display_name": "base",
   "language": "python",
   "name": "python3"
  },
  "language_info": {
   "codemirror_mode": {
    "name": "ipython",
    "version": 3
   },
   "file_extension": ".py",
   "mimetype": "text/x-python",
   "name": "python",
   "nbconvert_exporter": "python",
   "pygments_lexer": "ipython3",
   "version": "3.10.13"
  }
 },
 "nbformat": 4,
 "nbformat_minor": 2
}
