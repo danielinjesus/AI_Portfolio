{
 "cells": [
  {
   "cell_type": "markdown",
   "metadata": {},
   "source": [
    "### 테이블 형식으로 (IPython이나 Jupyter 환경에서만) 출력\n",
    ".py에서도 인터렉티브 모드나, # %% 명령어로 하니 된다!"
   ]
  },
  {
   "cell_type": "code",
   "execution_count": null,
   "metadata": {},
   "outputs": [],
   "source": [
    "import pandas as pd\n",
    "\n",
    "# CSV 파일 불러오기\n",
    "df = pd.read_csv('titanic.csv')\n",
    "\n",
    "# 모든 행과 열을 표시하도록 설정\n",
    "pd.set_option('display.max_rows', None)  # 모든 행 표시\n",
    "pd.set_option('display.max_columns', None)  # 모든 열 표시\n",
    "\n",
    "# 데이터 출력(50개만 출력)\n",
    "display(df.head(50))  # Jupyter Notebook에서 전체 테이블을 표시\n",
    "\n",
    "# 데이터가 세로로 출력되면서 보기가 너무 힘들다. 엑셀로 분석은 다 하고, 칼럼 선택할 때만 Python 돌아오는 게 좋겠다."
   ]
  },
  {
   "cell_type": "code",
   "execution_count": null,
   "metadata": {},
   "outputs": [
    {
     "data": {
      "text/plain": [
       "(891, 12)"
      ]
     },
     "execution_count": 17,
     "metadata": {},
     "output_type": "execute_result"
    }
   ],
   "source": [
    "df.shape #행과 열의 갯수로 이루어진 튜플을 반환"
   ]
  },
  {
   "cell_type": "code",
   "execution_count": null,
   "metadata": {},
   "outputs": [],
   "source": [
    "df.head(10) # 상위 몇개 반환"
   ]
  }
 ],
 "metadata": {
  "kernelspec": {
   "display_name": "base",
   "language": "python",
   "name": "python3"
  },
  "language_info": {
   "codemirror_mode": {
    "name": "ipython",
    "version": 3
   },
   "file_extension": ".py",
   "mimetype": "text/x-python",
   "name": "python",
   "nbconvert_exporter": "python",
   "pygments_lexer": "ipython3",
   "version": "3.12.4"
  }
 },
 "nbformat": 4,
 "nbformat_minor": 2
}
